{
  "cells": [
    {
      "cell_type": "markdown",
      "metadata": {
        "id": "view-in-github",
        "colab_type": "text"
      },
      "source": [
        "<a href=\"https://colab.research.google.com/github/mochiron-desu/colabFiles/blob/main/ImageSorter.ipynb\" target=\"_parent\"><img src=\"https://colab.research.google.com/assets/colab-badge.svg\" alt=\"Open In Colab\"/></a>"
      ]
    },
    {
      "cell_type": "code",
      "source": [
        "import cv2\n",
        "import numpy as np\n",
        "import os\n",
        "from tqdm import tqdm\n",
        "from google.colab.patches import cv2_imshow as show\n",
        "from time import time"
      ],
      "metadata": {
        "id": "2DBkqkzkgztz"
      },
      "execution_count": null,
      "outputs": []
    },
    {
      "cell_type": "code",
      "source": [
        "img_path = \"\" # @param {type:\"string\"}\n",
        "# Load the image\n",
        "image = cv2.imread(img_path)\n",
        "\n",
        "# Get the shape of the image\n",
        "height, width, channels = image.shape\n",
        "\n",
        "# Flatten the image into a 1D array\n",
        "pixels = image.reshape(-1, channels)\n",
        "\n",
        "# Create a folder to save frames\n",
        "frame_folder = '/content/sorted_frames'\n",
        "os.makedirs(frame_folder, exist_ok=True)\n",
        "\n",
        "# Create a copy of the original pixels for visualization\n",
        "visualized_pixels = np.copy(pixels)\n",
        "\n",
        "type_of_sort = \"brightness\" # @param [\"brightness\", \"color\"]\n",
        "\n",
        "if type_of_sort == \"brightness\":\n",
        "    # Sort the pixels based on their intensity (brightness)\n",
        "    sorted_pixels = np.lexsort(visualized_pixels.T)\n",
        "elif type_of_sort == \"color\":\n",
        "    # Sort the pixels based on their color (R, G, B)\n",
        "    sorted_pixels = np.lexsort(visualized_pixels.T[::-1])  # Sort by B, G, R order\n",
        "\n",
        "# Create a VideoWriter object to save the frames as MP4\n",
        "fourcc = cv2.VideoWriter_fourcc(*'mp4v')\n",
        "video_path = '/content/sorting_process.mp4'\n",
        "out = cv2.VideoWriter(video_path, fourcc, 30, (width, height))"
      ],
      "metadata": {
        "id": "FJr7B2gMg4B9",
        "cellView": "form"
      },
      "execution_count": null,
      "outputs": []
    },
    {
      "cell_type": "code",
      "source": [
        "number_of_frames = 2100 # @param {type:\"integer\"}\n",
        "\n",
        "start = time()\n",
        "# Render and save frames\n",
        "for i, frame_index in enumerate(tqdm(range(0, height * width, (height * width)//number_of_frames), desc=\"Creating Frames\")):\n",
        "    # Use the original image for each frame\n",
        "    sorted_image = np.copy(image)\n",
        "\n",
        "    # Update sorted pixels gradually\n",
        "    for j in range(frame_index + 1):\n",
        "        y, x = divmod(sorted_pixels[j], width)\n",
        "        sorted_image[y, x] = pixels[j]\n",
        "\n",
        "    frame_path = os.path.join(frame_folder, f'frame_{i:04d}.png')\n",
        "    cv2.imwrite(frame_path, sorted_image)\n",
        "\n",
        "    # Write the frame to the video\n",
        "    out.write(sorted_image)\n",
        "\n",
        "print(time()-start)"
      ],
      "metadata": {
        "id": "JaMaeJwpg8fk",
        "cellView": "form"
      },
      "execution_count": null,
      "outputs": []
    },
    {
      "cell_type": "code",
      "source": [
        "out.release()"
      ],
      "metadata": {
        "id": "I5kLxRCQiyjL"
      },
      "execution_count": null,
      "outputs": []
    },
    {
      "cell_type": "code",
      "source": [
        "# Display the final sorted image\n",
        "show(sorted_image)\n",
        "cv2.waitKey(0)\n",
        "cv2.destroyAllWindows()"
      ],
      "metadata": {
        "id": "Pgx7Mpdfi2Yp"
      },
      "execution_count": null,
      "outputs": []
    },
    {
      "cell_type": "code",
      "source": [
        "!rm -rf sorted_frames"
      ],
      "metadata": {
        "id": "vbl4js9rmUm_"
      },
      "execution_count": null,
      "outputs": []
    }
  ],
  "metadata": {
    "colab": {
      "provenance": [],
      "authorship_tag": "ABX9TyMF5vlW5T4ykVwJTXUKF2t1",
      "include_colab_link": true
    },
    "kernelspec": {
      "display_name": "Python 3",
      "name": "python3"
    },
    "language_info": {
      "name": "python"
    }
  },
  "nbformat": 4,
  "nbformat_minor": 0
}